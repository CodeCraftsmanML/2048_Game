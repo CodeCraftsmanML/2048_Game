{
 "cells": [
  {
   "cell_type": "markdown",
   "metadata": {},
   "source": []
  },
  {
   "cell_type": "code",
   "execution_count": 9,
   "metadata": {},
   "outputs": [],
   "source": [
    "def Start_Game():\n",
    "    mat = [[0] * 4 for _ in range(4)]\n",
    "    \n",
    "    return mat"
   ]
  },
  {
   "cell_type": "code",
   "execution_count": 10,
   "metadata": {},
   "outputs": [],
   "source": [
    "import random\n",
    "\n",
    "def add_new_2(mat):\n",
    "    r,c = random.randint(0,3),random.randint(0,3) \n",
    "\n",
    "    while mat[r][c] != 0:\n",
    "        r,c = random.randint(0,3),random.randint(0,3) \n",
    "    \n",
    "    mat[r][c] = 2 "
   ]
  },
  {
   "cell_type": "code",
   "execution_count": 11,
   "metadata": {},
   "outputs": [],
   "source": [
    "def Current_State(mat):\n",
    "    for i in range(4):\n",
    "        for j in range(4):\n",
    "            if mat[i][j] == 2048:\n",
    "                return \"Won\"\n",
    "    \n",
    "    for i in range(4):\n",
    "        for j in range(4):\n",
    "            if mat[i][j] == 0:\n",
    "                return \"Game Still Going\"\n",
    "    \n",
    "    for i in range(3):\n",
    "        for j in range(3):\n",
    "            if mat[i][j] == mat[i][j+1] or mat[i][j] == mat[i+1][j]:\n",
    "                return \"Game Still Going\"\n",
    "    \n",
    "    for j in range(3):\n",
    "        if mat[3][j] == mat[3][j+1]:\n",
    "            return \"Game Still Going\"\n",
    "    \n",
    "    for i in range(3):\n",
    "        if mat[i][3] == mat[i+1][3]:\n",
    "            return \"Game Still Going\"\n",
    "    \n",
    "    return \"Lost\""
   ]
  },
  {
   "cell_type": "code",
   "execution_count": 12,
   "metadata": {},
   "outputs": [],
   "source": [
    "def compress(mat):\n",
    "    new_mat = [[0] * 4 for _ in range(4)]\n",
    "    \n",
    "    for i in range(4):\n",
    "        pos = 0 \n",
    "        for j in range(4):\n",
    "            if mat[i][j] != 0:\n",
    "                new_mat[i][pos] = mat[i][j]\n",
    "                pos += 1 \n",
    "    \n",
    "    return new_mat          "
   ]
  },
  {
   "cell_type": "code",
   "execution_count": 13,
   "metadata": {},
   "outputs": [],
   "source": [
    "def merge(mat):\n",
    "   \n",
    "    for i in range(4):\n",
    "        for j in range(3):\n",
    "            if mat[i][j] == mat[i][j+1]:\n",
    "                mat[i][j] *= 2 \n",
    "                mat[i][j+1] = 0 \n",
    "    \n",
    "    return mat \n",
    "        "
   ]
  },
  {
   "cell_type": "code",
   "execution_count": 14,
   "metadata": {},
   "outputs": [],
   "source": [
    "def reverse(mat):\n",
    "    new_mat = [] \n",
    "    for i in range(4):\n",
    "        new_mat.append([]) \n",
    "        for j in range(4):\n",
    "            new_mat[i].append(mat[i][4-j-1]) \n",
    "    \n",
    "    return new_mat\n",
    "            "
   ]
  },
  {
   "cell_type": "code",
   "execution_count": 15,
   "metadata": {},
   "outputs": [],
   "source": [
    "def transpose(mat):\n",
    "    new_mat = [] \n",
    "    for i in range(4):\n",
    "        new_mat.append([]) \n",
    "        for j in range(4):\n",
    "            new_mat[i].append(mat[j][i]) \n",
    "    return new_mat "
   ]
  },
  {
   "cell_type": "code",
   "execution_count": 17,
   "metadata": {},
   "outputs": [],
   "source": [
    "def move_left(mat):\n",
    "    mat = compress(mat)\n",
    "    mat = merge(mat) \n",
    "    mat = compress(mat) \n",
    "    \n",
    "    return mat "
   ]
  },
  {
   "cell_type": "code",
   "execution_count": 23,
   "metadata": {},
   "outputs": [],
   "source": [
    "def move_right(mat):\n",
    "    mat = reverse(mat) \n",
    "    mat = compress(mat) \n",
    "    mat = merge(mat) \n",
    "    mat = compress(mat) \n",
    "    mat = reverse(mat) \n",
    "    \n",
    "    return mat "
   ]
  },
  {
   "cell_type": "code",
   "execution_count": 24,
   "metadata": {},
   "outputs": [],
   "source": [
    "def move_up(mat):\n",
    "    mat = transpose(mat) \n",
    "    mat = compress(mat) \n",
    "    mat = merge(mat) \n",
    "    mat = compress(mat) \n",
    "    mat = transpose(mat) \n",
    "    \n",
    "    \n",
    "    return mat     "
   ]
  },
  {
   "cell_type": "code",
   "execution_count": 25,
   "metadata": {},
   "outputs": [],
   "source": [
    "def move_down(mat):\n",
    "    mat = transpose(mat) \n",
    "    mat = reverse(mat) \n",
    "    mat = compress(mat) \n",
    "    mat = merge(mat) \n",
    "    mat = compress(mat)\n",
    "    mat = reverse(mat)  \n",
    "    mat = transpose(mat) \n",
    "    \n",
    "    \n",
    "    return mat     "
   ]
  },
  {
   "cell_type": "code",
   "execution_count": null,
   "metadata": {},
   "outputs": [],
   "source": []
  }
 ],
 "metadata": {
  "kernelspec": {
   "display_name": "Python 3",
   "language": "python",
   "name": "python3"
  },
  "language_info": {
   "codemirror_mode": {
    "name": "ipython",
    "version": 3
   },
   "file_extension": ".py",
   "mimetype": "text/x-python",
   "name": "python",
   "nbconvert_exporter": "python",
   "pygments_lexer": "ipython3",
   "version": "3.11.1"
  }
 },
 "nbformat": 4,
 "nbformat_minor": 2
}
